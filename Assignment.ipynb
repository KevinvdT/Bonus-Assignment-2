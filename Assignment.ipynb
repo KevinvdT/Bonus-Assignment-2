{
 "cells": [
  {
   "cell_type": "code",
   "execution_count": 24,
   "metadata": {},
   "outputs": [],
   "source": [
    "from math import inf\n",
    "from copy import deepcopy\n",
    "from random import random"
   ]
  },
  {
   "cell_type": "markdown",
   "metadata": {},
   "source": [
    "## Utilities"
   ]
  },
  {
   "cell_type": "markdown",
   "metadata": {},
   "source": [
    "`Logger`, for printable messages that can be turned on and off."
   ]
  },
  {
   "cell_type": "code",
   "execution_count": 11,
   "metadata": {},
   "outputs": [
    {
     "name": "stdout",
     "output_type": "stream",
     "text": [
      "This will be printed\n",
      "This will be printed too\n"
     ]
    }
   ],
   "source": [
    "class Logger:\n",
    "    def __init__(self):\n",
    "        self.on = True\n",
    "    def log(*args, **kwargs):\n",
    "        self = args[0]\n",
    "        if self.on:\n",
    "            print(*args[1:], **kwargs)\n",
    "\n",
    "logger = Logger()\n",
    "logger.log('This will be printed')\n",
    "logger.on = False\n",
    "logger.log('This will not be printed')\n",
    "logger.on = True\n",
    "logger.log('This will be printed too')\n"
   ]
  },
  {
   "cell_type": "code",
   "execution_count": 12,
   "metadata": {},
   "outputs": [],
   "source": [
    "def path_str(path: list) -> str:\n",
    "    return ' → '.join([node.name for node in path])"
   ]
  },
  {
   "cell_type": "markdown",
   "metadata": {},
   "source": [
    "## Graph Data Structures"
   ]
  },
  {
   "cell_type": "markdown",
   "metadata": {},
   "source": [
    "### Node"
   ]
  },
  {
   "cell_type": "code",
   "execution_count": 13,
   "metadata": {},
   "outputs": [],
   "source": [
    "class Node:\n",
    "    def __init__(self, name : str, graph, distance=inf):\n",
    "        self.name = str(name).upper()\n",
    "        self.distance = distance\n",
    "        self.visited = False\n",
    "        # Store graph so it can find edges that connect self\n",
    "        self.graph = graph\n",
    "        self.shortest_path_prev_node = None\n",
    "    def __str__(self):\n",
    "        if self.distance == inf:\n",
    "            name =  f'Node({self.name})'\n",
    "        else:\n",
    "            name = f'Node({self.name}, d={self.distance})'\n",
    "        # Colored Red if node is visited\n",
    "        if self.visited:\n",
    "            name = f'\\033[92m{name}\\033[0m'\n",
    "        # Colored cyan if node isn't visited but distance < ∞\n",
    "        elif self.distance != inf:\n",
    "            name = f'\\033[96m{name}\\033[0m'\n",
    "        return name\n",
    "    def __repr__(self):\n",
    "        return self.__str__()\n",
    "    def edges(self, no_visited_nodes=True):\n",
    "        connecting_edges =  [edge for edge in self.graph.edges if edge.node_start == self]\n",
    "        if not no_visited_nodes:\n",
    "            return connecting_edges\n",
    "        return [edge for edge in connecting_edges if not edge.node_end.visited]"
   ]
  },
  {
   "cell_type": "markdown",
   "metadata": {},
   "source": [
    "### Edge"
   ]
  },
  {
   "cell_type": "code",
   "execution_count": 14,
   "metadata": {},
   "outputs": [],
   "source": [
    "class Edge:\n",
    "    def __init__(self, node_start : Node, node_end : Node, weight=1):\n",
    "        self.node_start = node_start\n",
    "        self.node_end = node_end\n",
    "        self.weight = weight\n",
    "    \n",
    "    def __str__(self):\n",
    "        return f'Edge({self.node_start.name} → {self.node_end.name}, w={self.weight})'\n",
    "    def __repr__(self):\n",
    "        return self.__str__()"
   ]
  },
  {
   "cell_type": "markdown",
   "metadata": {},
   "source": [
    "### Graph"
   ]
  },
  {
   "cell_type": "code",
   "execution_count": 15,
   "metadata": {},
   "outputs": [],
   "source": [
    "class Graph:\n",
    "    def __init__(self):\n",
    "        self.edges = []\n",
    "        self.nodes = []\n",
    "\n",
    "    \n",
    "    def get_smallest_distance_unvisited_node(self):\n",
    "        unvisited_nodes =  [node for node in self.nodes if not node.visited]\n",
    "        return min(unvisited_nodes, key=lambda node: node.distance)\n",
    "\n",
    "    def get_node(self, name: str):\n",
    "        index = self.get_node_names().index(name)\n",
    "        return self.nodes[index]\n",
    "    \n",
    "    def get_node_names(self) -> list[str]:\n",
    "        return [node.name for node in self.nodes]\n",
    "    \n",
    "    def add_node(self, name: str) -> Node:\n",
    "        node = Node(name, graph=self)\n",
    "        self.nodes.append(node)\n",
    "        return node\n",
    "    \n",
    "    def get_or_add_node(self, name: str) -> Node:\n",
    "        try:\n",
    "            node_index = self.get_node_names().index(name)\n",
    "        except ValueError:\n",
    "            node_index = None\n",
    "        \n",
    "        if node_index is None:\n",
    "            node = self.add_node(name)\n",
    "        else:\n",
    "            node = self.nodes[node_index]\n",
    "        \n",
    "        return node\n",
    "\n",
    "\n",
    "    def add_edge(self, node_start_name: str, node_end_name: str, weight=inf, directed=True):\n",
    "        node_start = self.get_or_add_node(node_start_name)\n",
    "        node_end = self.get_or_add_node(node_end_name)\n",
    "\n",
    "        self.edges.append(Edge(node_start, node_end, weight=weight))\n",
    "        \n",
    "        if not directed:\n",
    "            self.edges.append(Edge(node_end, node_start, weight=weight))"
   ]
  },
  {
   "cell_type": "markdown",
   "metadata": {},
   "source": [
    "### Graph generator from weighted edge list"
   ]
  },
  {
   "cell_type": "code",
   "execution_count": 22,
   "metadata": {},
   "outputs": [],
   "source": [
    "def generate_graph_from_weighted_edge_list(weighted_edge_list):\n",
    "    graph = Graph()\n",
    "    for line in weighted_edge_list.split('\\n'):\n",
    "        node_start_name, node_end_name, weight = line.replace(',', '').split(' ')\n",
    "        weight = int(weight)\n",
    "        graph.get_or_add_node(node_start_name)\n",
    "        graph.get_or_add_node(node_end_name)\n",
    "        graph.add_edge(node_start_name, node_end_name, weight=weight)\n",
    "    return graph\n",
    "\n",
    "weighted_edge_list = \"\"\"10, 20, 30\n",
    "30, 10, 30\"\"\"\n",
    "\n",
    "graph = generate_graph_from_weighted_edge_list(weighted_edge_list)"
   ]
  },
  {
   "cell_type": "markdown",
   "metadata": {},
   "source": [
    "## Shortest Path Calculation"
   ]
  },
  {
   "cell_type": "markdown",
   "metadata": {},
   "source": [
    "Shortest path calculation using Dijkstra's algorithm."
   ]
  },
  {
   "cell_type": "code",
   "execution_count": 16,
   "metadata": {},
   "outputs": [],
   "source": [
    "def get_shortest_path(graph: Graph, starting_node: Node, finish_node: Node) -> list[Node]:\n",
    "    # Start by visiting starting node\n",
    "    starting_node.distance = 0\n",
    "    starting_node.visited = True\n",
    "    current_node = starting_node\n",
    "    logger.log(f'Starting at {starting_node}')\n",
    "\n",
    "    # While the finish_node isn't reached\n",
    "    while current_node != finish_node:\n",
    "\n",
    "        # For each edge of the current node (the node that is visited now)\n",
    "        for edge in current_node.edges(no_visited_nodes=False):\n",
    "\n",
    "            # Calculate the distance of the node this edge points at, via the current node\n",
    "            distance_via_current_node = current_node.distance + edge.weight\n",
    "\n",
    "            # If this distance is smaller than the current known shortest distance to that node\n",
    "            if distance_via_current_node < edge.node_end.distance:\n",
    "\n",
    "                # Set the node to that distance\n",
    "                edge.node_end.distance = distance_via_current_node\n",
    "\n",
    "                # And make a reference in that node to the current node for backtracing later\n",
    "                edge.node_end.shortest_path_prev_node = current_node\n",
    "        \n",
    "        current_node.visited = True\n",
    "        \n",
    "        # The node to be visited next is the node with the smallest distance that isn't visited yet\n",
    "        next_node = graph.get_smallest_distance_unvisited_node()\n",
    "        logger.log(f'Current state: {graph.nodes}')\n",
    "        logger.log(f'Unvisited node with smallest distance: {graph.get_smallest_distance_unvisited_node()}')\n",
    "        logger.log()\n",
    "        logger.log(f'Going to {next_node}')\n",
    "        current_node = next_node\n",
    "\n",
    "    # Backtracing path from finish_node to starting_node\n",
    "    shortest_path_reversed = list()\n",
    "    node = finish_node\n",
    "    while node != starting_node:\n",
    "        shortest_path_reversed.append(node)\n",
    "        node = node.shortest_path_prev_node\n",
    "    shortest_path_reversed.append(starting_node)\n",
    "\n",
    "    # Reversing the path to go from start to finish\n",
    "    shortest_path = shortest_path_reversed[::-1]\n",
    "    return shortest_path"
   ]
  },
  {
   "cell_type": "markdown",
   "metadata": {},
   "source": [
    "Testing the algorithm with a sample graph."
   ]
  },
  {
   "cell_type": "code",
   "execution_count": 17,
   "metadata": {},
   "outputs": [
    {
     "name": "stdout",
     "output_type": "stream",
     "text": [
      "Starting at \u001b[92mNode(A, d=0)\u001b[0m\n",
      "Current state: [\u001b[92mNode(A, d=0)\u001b[0m, \u001b[96mNode(C, d=3)\u001b[0m, \u001b[96mNode(F, d=2)\u001b[0m, Node(D), Node(E), Node(B), Node(G)]\n",
      "Unvisited node with smallest distance: \u001b[96mNode(F, d=2)\u001b[0m\n",
      "\n",
      "Going to \u001b[96mNode(F, d=2)\u001b[0m\n",
      "Current state: [\u001b[92mNode(A, d=0)\u001b[0m, \u001b[96mNode(C, d=3)\u001b[0m, \u001b[92mNode(F, d=2)\u001b[0m, Node(D), \u001b[96mNode(E, d=5)\u001b[0m, \u001b[96mNode(B, d=8)\u001b[0m, \u001b[96mNode(G, d=7)\u001b[0m]\n",
      "Unvisited node with smallest distance: \u001b[96mNode(C, d=3)\u001b[0m\n",
      "\n",
      "Going to \u001b[96mNode(C, d=3)\u001b[0m\n",
      "Current state: [\u001b[92mNode(A, d=0)\u001b[0m, \u001b[92mNode(C, d=3)\u001b[0m, \u001b[92mNode(F, d=2)\u001b[0m, \u001b[96mNode(D, d=7)\u001b[0m, \u001b[96mNode(E, d=4)\u001b[0m, \u001b[96mNode(B, d=8)\u001b[0m, \u001b[96mNode(G, d=7)\u001b[0m]\n",
      "Unvisited node with smallest distance: \u001b[96mNode(E, d=4)\u001b[0m\n",
      "\n",
      "Going to \u001b[96mNode(E, d=4)\u001b[0m\n",
      "Current state: [\u001b[92mNode(A, d=0)\u001b[0m, \u001b[92mNode(C, d=3)\u001b[0m, \u001b[92mNode(F, d=2)\u001b[0m, \u001b[96mNode(D, d=7)\u001b[0m, \u001b[92mNode(E, d=4)\u001b[0m, \u001b[96mNode(B, d=6)\u001b[0m, \u001b[96mNode(G, d=7)\u001b[0m]\n",
      "Unvisited node with smallest distance: \u001b[96mNode(B, d=6)\u001b[0m\n",
      "\n",
      "Going to \u001b[96mNode(B, d=6)\u001b[0m\n",
      "Shortest path: A → C → E → B\n"
     ]
    }
   ],
   "source": [
    "graph = Graph()\n",
    "graph.add_edge('A', 'C', weight=3, directed=False)\n",
    "graph.add_edge('A', 'F', weight=2, directed=False)\n",
    "graph.add_edge('C', 'F', weight=2, directed=False)\n",
    "graph.add_edge('C', 'D', weight=4, directed=False)\n",
    "graph.add_edge('C', 'E', weight=1, directed=False)\n",
    "graph.add_edge('F', 'E', weight=3, directed=False)\n",
    "graph.add_edge('D', 'B', weight=1, directed=False)\n",
    "graph.add_edge('E', 'B', weight=2, directed=False)\n",
    "graph.add_edge('F', 'B', weight=6, directed=False)\n",
    "graph.add_edge('G', 'B', weight=2, directed=False)\n",
    "graph.add_edge('F', 'G', weight=5, directed=False)\n",
    "\n",
    "starting_node = graph.get_node('A')\n",
    "finish_node = graph.get_node('B')\n",
    "\n",
    "shortest_path = get_shortest_path(graph, starting_node, finish_node)\n",
    "print('Shortest path:', path_str(shortest_path))\n"
   ]
  },
  {
   "cell_type": "markdown",
   "metadata": {},
   "source": [
    "## Full program"
   ]
  },
  {
   "cell_type": "markdown",
   "metadata": {},
   "source": [
    "This function (program):\n",
    "\n",
    "- Takes as input (i) the graph in the weighted edge list format, (ii) origin node $A$, and (iii) destination\n",
    "- Computes the shortest path from $A$ to $B$\n",
    "- Outputs this path in the list format starting with node $A$ and ending with node $B$\n",
    "\n",
    "per the requirements given in Section 3.2 of the assignment document."
   ]
  },
  {
   "cell_type": "code",
   "execution_count": 23,
   "metadata": {},
   "outputs": [
    {
     "name": "stdout",
     "output_type": "stream",
     "text": [
      "['A', 'C', 'E', 'B']\n"
     ]
    }
   ],
   "source": [
    "def program(weighted_edge_list, starting_node_name, finish_node_name):\n",
    "    logger.on = False\n",
    "    graph = generate_graph_from_weighted_edge_list(weighted_edge_list)\n",
    "    starting_node = graph.get_or_add_node(starting_node_name)\n",
    "    finish_node = graph.get_or_add_node(finish_node_name)\n",
    "    shortest_path = get_shortest_path(graph, starting_node, finish_node)\n",
    "    shortest_path_names = [node.name for node in shortest_path]\n",
    "    return shortest_path_names\n",
    "\n",
    "weighted_edge_list = \"\"\"A C 3\n",
    "A F 2\n",
    "C F 2\n",
    "C D 4\n",
    "C E 1\n",
    "F E 3\n",
    "D B 1\n",
    "E B 2\n",
    "F B 6\n",
    "G B 2\n",
    "F G 5\"\"\"\n",
    "\n",
    "print(program(weighted_edge_list, 'A', 'B'))\n"
   ]
  },
  {
   "cell_type": "markdown",
   "metadata": {},
   "source": [
    "## Performance Analysis"
   ]
  },
  {
   "cell_type": "code",
   "execution_count": 34,
   "metadata": {},
   "outputs": [
    {
     "name": "stdout",
     "output_type": "stream",
     "text": [
      "1, 3, 1\n",
      "3, 1, 1\n",
      "1, 4, 1\n",
      "4, 1, 1\n",
      "1, 5, 1\n",
      "5, 1, 1\n",
      "2, 5, 1\n",
      "5, 2, 1\n",
      "3, 2, 1\n",
      "2, 3, 1\n",
      "3, 4, 1\n",
      "4, 3, 1\n",
      "3, 5, 1\n",
      "5, 3, 1\n",
      "4, 1, 1\n",
      "1, 4, 1\n",
      "4, 5, 1\n",
      "5, 4, 1\n",
      "5, 3, 1\n",
      "3, 5, 1\n"
     ]
    }
   ],
   "source": [
    "def generate_erdos_renyi_graph(number_of_nodes: int, average_degree: float):\n",
    "    connection_probability = average_degree / (number_of_nodes - 1)\n",
    "    weighted_edge_list = list()\n",
    "    for starting_node in range(1, number_of_nodes+1):\n",
    "        for finish_node in range(1, number_of_nodes+1):\n",
    "            if starting_node != finish_node:\n",
    "                if random() <= connection_probability:\n",
    "                    # Add undirected link as two opposite directed links, both with weight = 1\n",
    "                    weighted_edge_list.append(f'{starting_node}, {finish_node}, 1')\n",
    "                    weighted_edge_list.append(f'{finish_node}, {starting_node}, 1')\n",
    "    # Turn the list into one string\n",
    "    weighted_edge_list = '\\n'.join(weighted_edge_list)\n",
    "    return weighted_edge_list\n",
    "\n",
    "print(generate_erdos_renyi_graph(5, 2))"
   ]
  },
  {
   "cell_type": "code",
   "execution_count": null,
   "metadata": {},
   "outputs": [],
   "source": [
    "for log2_N in range(5, 13+1):\n",
    "    number_of_nodes = 2**(log2_N)\n",
    "    "
   ]
  }
 ],
 "metadata": {
  "kernelspec": {
   "display_name": "base",
   "language": "python",
   "name": "python3"
  },
  "language_info": {
   "codemirror_mode": {
    "name": "ipython",
    "version": 3
   },
   "file_extension": ".py",
   "mimetype": "text/x-python",
   "name": "python",
   "nbconvert_exporter": "python",
   "pygments_lexer": "ipython3",
   "version": "3.9.7"
  }
 },
 "nbformat": 4,
 "nbformat_minor": 2
}
