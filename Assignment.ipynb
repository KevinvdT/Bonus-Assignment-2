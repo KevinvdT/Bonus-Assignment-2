{
 "cells": [
  {
   "cell_type": "code",
   "execution_count": 1,
   "metadata": {},
   "outputs": [],
   "source": [
    "from math import inf\n",
    "from copy import deepcopy"
   ]
  },
  {
   "cell_type": "code",
   "execution_count": 64,
   "metadata": {},
   "outputs": [
    {
     "name": "stdout",
     "output_type": "stream",
     "text": [
      "Hello, World!\n",
      "Hola, ¡mundo!\n"
     ]
    }
   ],
   "source": [
    "class Logger:\n",
    "    def __init__(self):\n",
    "        self.on = True\n",
    "    def log(*args, **kwargs):\n",
    "        self = args[0]\n",
    "        if self.on:\n",
    "            print(*args[1:], **kwargs)\n",
    "logger = Logger()\n",
    "logger.log('Hello, World!')\n",
    "logger.on = False\n",
    "logger.log('Hallo, wereld!')\n",
    "logger.on = True\n",
    "logger.log('Hola, ¡mundo!')\n"
   ]
  },
  {
   "cell_type": "code",
   "execution_count": 65,
   "metadata": {},
   "outputs": [],
   "source": [
    "class Node:\n",
    "    def __init__(self, name : str, graph, distance=inf):\n",
    "        self.name = str(name).upper()\n",
    "        self.distance = distance\n",
    "        self.visited = False\n",
    "        self.graph = graph\n",
    "    def __str__(self):\n",
    "        return f'Node({self.name}, d={self.distance})'\n",
    "    def __repr__(self):\n",
    "        return self.__str__()\n",
    "    def edges(self, no_visited_nodes=True):\n",
    "        connecting_edges =  [edge for edge in self.graph.edges if edge.node_start == self]\n",
    "        if not no_visited_nodes:\n",
    "            return connecting_edges\n",
    "        return [edge for edge in connecting_edges if not edge.node_end.visited]"
   ]
  },
  {
   "cell_type": "code",
   "execution_count": 66,
   "metadata": {},
   "outputs": [],
   "source": [
    "class Edge:\n",
    "    def __init__(self, node_start : Node, node_end : Node, weight=inf):\n",
    "        self.node_start = node_start\n",
    "        self.node_end = node_end\n",
    "        self.weight = weight\n",
    "    \n",
    "    def __str__(self):\n",
    "        return f'Edge({self.node_start.name} → {self.node_end.name})'\n",
    "    def __repr__(self):\n",
    "        return self.__str__()"
   ]
  },
  {
   "cell_type": "code",
   "execution_count": 69,
   "metadata": {},
   "outputs": [],
   "source": [
    "class Graph:\n",
    "    def __init__(self):\n",
    "        self.edges = []\n",
    "        self.nodes = []\n",
    "\n",
    "    def get_node(self, name):\n",
    "        index = self.get_node_names().index(name)\n",
    "        return self.nodes[index]\n",
    "    \n",
    "    def get_node_names(self):\n",
    "        return [node.name for node in self.nodes]\n",
    "    \n",
    "    def add_node(self, name):\n",
    "        node = Node(name, graph=self)\n",
    "        self.nodes.append(node)\n",
    "        return node\n",
    "    \n",
    "    def get_or_add_node(self, name):\n",
    "        try:\n",
    "            node_index = self.get_node_names().index(name)\n",
    "        except ValueError:\n",
    "            node_index = None\n",
    "        \n",
    "        if node_index is None:\n",
    "            node = self.add_node(name)\n",
    "        else:\n",
    "            node = self.nodes[node_index]\n",
    "        \n",
    "        return node\n",
    "\n",
    "\n",
    "    def add_edge(self, node_start_name, node_end_name, weight=inf, directed=True):\n",
    "        node_start = self.get_or_add_node(node_start_name)\n",
    "        node_end = self.get_or_add_node(node_end_name)\n",
    "\n",
    "        self.edges.append(Edge(node_start, node_end, weight=weight))\n",
    "        \n",
    "        if not directed:\n",
    "            self.edges.append(Edge(node_end, node_start))"
   ]
  },
  {
   "cell_type": "code",
   "execution_count": null,
   "metadata": {},
   "outputs": [],
   "source": []
  },
  {
   "cell_type": "code",
   "execution_count": 70,
   "metadata": {},
   "outputs": [
    {
     "name": "stdout",
     "output_type": "stream",
     "text": [
      "Node(A, d=inf)\n",
      "[Edge(A → C), Edge(A → F)]\n",
      "[Node(A, d=inf), Node(C, d=inf), Node(F, d=inf), Node(D, d=inf), Node(E, d=inf), Node(B, d=inf), Node(G, d=inf)]\n",
      "[Edge(A → C), Edge(C → A), Edge(A → F), Edge(F → A), Edge(C → F), Edge(F → C), Edge(C → D), Edge(D → C), Edge(C → E), Edge(E → C), Edge(E → F), Edge(F → E), Edge(D → B), Edge(B → D), Edge(E → B), Edge(B → E), Edge(F → B), Edge(B → F), Edge(G → B), Edge(B → G), Edge(F → G), Edge(G → F)]\n"
     ]
    }
   ],
   "source": [
    "graph = Graph()\n",
    "graph.add_edge('A', 'C', weight=3, directed=False)\n",
    "graph.add_edge('A', 'F', weight=2, directed=False)\n",
    "graph.add_edge('C', 'F', weight=2, directed=False)\n",
    "graph.add_edge('C', 'D', weight=4, directed=False)\n",
    "graph.add_edge('C', 'E', weight=5, directed=False)\n",
    "graph.add_edge('E', 'F', weight=3, directed=False)\n",
    "graph.add_edge('D', 'B', weight=1, directed=False)\n",
    "graph.add_edge('E', 'B', weight=2, directed=False)\n",
    "graph.add_edge('F', 'B', weight=6, directed=False)\n",
    "graph.add_edge('G', 'B', weight=2, directed=False)\n",
    "graph.add_edge('F', 'G', weight=5, directed=False)\n",
    "\n",
    "starting_node = graph.get_node('A')\n",
    "finish_node = graph.get_node('B')\n",
    "\n",
    "print(starting_node)\n",
    "print(starting_node.edges())\n",
    "print(graph.nodes)\n",
    "print(graph.edges)"
   ]
  },
  {
   "cell_type": "code",
   "execution_count": 71,
   "metadata": {},
   "outputs": [
    {
     "name": "stdout",
     "output_type": "stream",
     "text": [
      "Starting with Node(A, d=0)\n",
      "Going to Node(F, d=2)\n",
      "Going to Node(C, d=3)\n",
      "Going to Node(D, d=7)\n",
      "Going to Node(B, d=8)\n",
      "None\n",
      "[Node(A, d=0), Node(C, d=3), Node(F, d=2), Node(D, d=7), Node(E, d=8), Node(B, d=8), Node(G, d=7)]\n"
     ]
    }
   ],
   "source": [
    "def shortest_path(graph, starting_node, finish_node):\n",
    "    starting_node.distance = 0\n",
    "    current_node = starting_node\n",
    "    logger.log(f'Starting with {starting_node}')\n",
    "    while current_node != finish_node:\n",
    "        \n",
    "        for edge in current_node.edges(no_visited_nodes=False):\n",
    "            edge.node_end.distance = min(edge.node_end.distance, current_node.distance + edge.weight)\n",
    "        \n",
    "        next_node = min(current_node.edges(), key=lambda edge: edge.node_end.distance).node_end\n",
    "        current_node.visited = True\n",
    "        logger.log(f'Going to {next_node}')\n",
    "        current_node = next_node\n",
    "        \n",
    "\n",
    "print(shortest_path(graph, starting_node, finish_node))\n",
    "print(graph.nodes)"
   ]
  },
  {
   "cell_type": "markdown",
   "metadata": {},
   "source": []
  }
 ],
 "metadata": {
  "kernelspec": {
   "display_name": "base",
   "language": "python",
   "name": "python3"
  },
  "language_info": {
   "codemirror_mode": {
    "name": "ipython",
    "version": 3
   },
   "file_extension": ".py",
   "mimetype": "text/x-python",
   "name": "python",
   "nbconvert_exporter": "python",
   "pygments_lexer": "ipython3",
   "version": "3.9.7"
  }
 },
 "nbformat": 4,
 "nbformat_minor": 2
}
