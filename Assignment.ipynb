{
 "cells": [
  {
   "cell_type": "code",
   "execution_count": 1,
   "metadata": {},
   "outputs": [],
   "source": [
    "from math import inf\n",
    "from copy import deepcopy"
   ]
  },
  {
   "cell_type": "code",
   "execution_count": 2,
   "metadata": {},
   "outputs": [
    {
     "name": "stdout",
     "output_type": "stream",
     "text": [
      "Hello, World!\n",
      "Hola, ¡mundo!\n"
     ]
    }
   ],
   "source": [
    "class Logger:\n",
    "    def __init__(self):\n",
    "        self.on = True\n",
    "    def log(*args, **kwargs):\n",
    "        self = args[0]\n",
    "        if self.on:\n",
    "            print(*args[1:], **kwargs)\n",
    "logger = Logger()\n",
    "logger.log('Hello, World!')\n",
    "logger.on = False\n",
    "logger.log('Hallo, wereld!')\n",
    "logger.on = True\n",
    "logger.log('Hola, ¡mundo!')\n"
   ]
  },
  {
   "cell_type": "code",
   "execution_count": 3,
   "metadata": {},
   "outputs": [],
   "source": [
    "class Node:\n",
    "    def __init__(self, name : str, graph, distance=inf):\n",
    "        self.name = str(name).upper()\n",
    "        self.distance = distance\n",
    "        self.visited = False\n",
    "        self.graph = graph\n",
    "        self.shortest_path_prev_node = None\n",
    "    def __str__(self):\n",
    "        if self.distance == inf:\n",
    "            name =  f'Node({self.name})'\n",
    "        else:\n",
    "            name = f'Node({self.name}, d={self.distance})'\n",
    "        if self.visited:\n",
    "            name = f'\\033[92m{name}\\033[0m'\n",
    "        elif self.distance != inf:\n",
    "            name = f'\\033[96m{name}\\033[0m'\n",
    "        return name\n",
    "    def __repr__(self):\n",
    "        return self.__str__()\n",
    "    def edges(self, no_visited_nodes=True):\n",
    "        connecting_edges =  [edge for edge in self.graph.edges if edge.node_start == self]\n",
    "        if not no_visited_nodes:\n",
    "            return connecting_edges\n",
    "        return [edge for edge in connecting_edges if not edge.node_end.visited]"
   ]
  },
  {
   "cell_type": "code",
   "execution_count": 4,
   "metadata": {},
   "outputs": [],
   "source": [
    "class Edge:\n",
    "    def __init__(self, node_start : Node, node_end : Node, weight=inf):\n",
    "        self.node_start = node_start\n",
    "        self.node_end = node_end\n",
    "        self.weight = weight\n",
    "    \n",
    "    def __str__(self):\n",
    "        return f'Edge({self.node_start.name} → {self.node_end.name})'\n",
    "    def __repr__(self):\n",
    "        return self.__str__()"
   ]
  },
  {
   "cell_type": "code",
   "execution_count": 5,
   "metadata": {},
   "outputs": [],
   "source": [
    "class Graph:\n",
    "    def __init__(self):\n",
    "        self.edges = []\n",
    "        self.nodes = []\n",
    "\n",
    "    \n",
    "    def get_smallest_distance_unvisited_node(self):\n",
    "        unvisited_nodes =  [node for node in self.nodes if not node.visited]\n",
    "        return min(unvisited_nodes, key=lambda node: node.distance)\n",
    "\n",
    "    def get_node(self, name):\n",
    "        index = self.get_node_names().index(name)\n",
    "        return self.nodes[index]\n",
    "    \n",
    "    def get_node_names(self):\n",
    "        return [node.name for node in self.nodes]\n",
    "    \n",
    "    def add_node(self, name):\n",
    "        node = Node(name, graph=self)\n",
    "        self.nodes.append(node)\n",
    "        return node\n",
    "    \n",
    "    def get_or_add_node(self, name):\n",
    "        try:\n",
    "            node_index = self.get_node_names().index(name)\n",
    "        except ValueError:\n",
    "            node_index = None\n",
    "        \n",
    "        if node_index is None:\n",
    "            node = self.add_node(name)\n",
    "        else:\n",
    "            node = self.nodes[node_index]\n",
    "        \n",
    "        return node\n",
    "\n",
    "\n",
    "    def add_edge(self, node_start_name, node_end_name, weight=inf, directed=True):\n",
    "        node_start = self.get_or_add_node(node_start_name)\n",
    "        node_end = self.get_or_add_node(node_end_name)\n",
    "\n",
    "        self.edges.append(Edge(node_start, node_end, weight=weight))\n",
    "        \n",
    "        if not directed:\n",
    "            self.edges.append(Edge(node_end, node_start, weight=weight))"
   ]
  },
  {
   "cell_type": "code",
   "execution_count": 10,
   "metadata": {},
   "outputs": [
    {
     "name": "stdout",
     "output_type": "stream",
     "text": [
      "Node(A)\n",
      "[Edge(A → C), Edge(A → F)]\n",
      "[Node(A), Node(C), Node(F), Node(D), Node(E), Node(B), Node(G)]\n",
      "[Edge(A → C), Edge(C → A), Edge(A → F), Edge(F → A), Edge(C → F), Edge(F → C), Edge(C → D), Edge(D → C), Edge(C → E), Edge(E → C), Edge(F → E), Edge(E → F), Edge(D → B), Edge(B → D), Edge(E → B), Edge(B → E), Edge(F → B), Edge(B → F), Edge(G → B), Edge(B → G), Edge(F → G), Edge(G → F)]\n"
     ]
    }
   ],
   "source": [
    "graph = Graph()\n",
    "graph.add_edge('A', 'C', weight=3, directed=False)\n",
    "graph.add_edge('A', 'F', weight=2, directed=False)\n",
    "graph.add_edge('C', 'F', weight=2, directed=False)\n",
    "graph.add_edge('C', 'D', weight=4, directed=False)\n",
    "graph.add_edge('C', 'E', weight=1, directed=False)\n",
    "graph.add_edge('F', 'E', weight=3, directed=False)\n",
    "graph.add_edge('D', 'B', weight=1, directed=False)\n",
    "graph.add_edge('E', 'B', weight=2, directed=False)\n",
    "graph.add_edge('F', 'B', weight=6, directed=False)\n",
    "graph.add_edge('G', 'B', weight=2, directed=False)\n",
    "graph.add_edge('F', 'G', weight=5, directed=False)\n",
    "\n",
    "starting_node = graph.get_node('A')\n",
    "finish_node = graph.get_node('B')\n",
    "\n",
    "print(starting_node)\n",
    "print(starting_node.edges())\n",
    "print(graph.nodes)\n",
    "print(graph.edges)"
   ]
  },
  {
   "cell_type": "code",
   "execution_count": 11,
   "metadata": {},
   "outputs": [
    {
     "name": "stdout",
     "output_type": "stream",
     "text": [
      "Starting with \u001b[92mNode(A, d=0)\u001b[0m\n",
      "State: [\u001b[92mNode(A, d=0)\u001b[0m, \u001b[96mNode(C, d=3)\u001b[0m, \u001b[96mNode(F, d=2)\u001b[0m, Node(D), Node(E), Node(B), Node(G)]\n",
      "Smallest unvisited \u001b[96mNode(F, d=2)\u001b[0m\n",
      "Going to \u001b[96mNode(F, d=2)\u001b[0m\n",
      "\n",
      "State: [\u001b[92mNode(A, d=0)\u001b[0m, \u001b[96mNode(C, d=3)\u001b[0m, \u001b[92mNode(F, d=2)\u001b[0m, Node(D), \u001b[96mNode(E, d=5)\u001b[0m, \u001b[96mNode(B, d=8)\u001b[0m, \u001b[96mNode(G, d=7)\u001b[0m]\n",
      "Smallest unvisited \u001b[96mNode(C, d=3)\u001b[0m\n",
      "Going to \u001b[96mNode(C, d=3)\u001b[0m\n",
      "\n",
      "State: [\u001b[92mNode(A, d=0)\u001b[0m, \u001b[92mNode(C, d=3)\u001b[0m, \u001b[92mNode(F, d=2)\u001b[0m, \u001b[96mNode(D, d=7)\u001b[0m, \u001b[96mNode(E, d=4)\u001b[0m, \u001b[96mNode(B, d=8)\u001b[0m, \u001b[96mNode(G, d=7)\u001b[0m]\n",
      "Smallest unvisited \u001b[96mNode(E, d=4)\u001b[0m\n",
      "Going to \u001b[96mNode(E, d=4)\u001b[0m\n",
      "\n",
      "State: [\u001b[92mNode(A, d=0)\u001b[0m, \u001b[92mNode(C, d=3)\u001b[0m, \u001b[92mNode(F, d=2)\u001b[0m, \u001b[96mNode(D, d=7)\u001b[0m, \u001b[92mNode(E, d=4)\u001b[0m, \u001b[96mNode(B, d=6)\u001b[0m, \u001b[96mNode(G, d=7)\u001b[0m]\n",
      "Smallest unvisited \u001b[96mNode(B, d=6)\u001b[0m\n",
      "Going to \u001b[96mNode(B, d=6)\u001b[0m\n",
      "\n",
      "Trafersing: \u001b[96mNode(B, d=6)\u001b[0m\n",
      "\u001b[92mNode(E, d=4)\u001b[0m\n",
      "Trafersing: \u001b[92mNode(E, d=4)\u001b[0m\n",
      "\u001b[92mNode(C, d=3)\u001b[0m\n",
      "Trafersing: \u001b[92mNode(C, d=3)\u001b[0m\n",
      "\u001b[92mNode(A, d=0)\u001b[0m\n",
      "A → C → E → B\n"
     ]
    }
   ],
   "source": [
    "def get_shortest_path(graph, starting_node, finish_node):\n",
    "    starting_node.distance = 0\n",
    "    starting_node.visited = True\n",
    "    current_node = starting_node\n",
    "    logger.log(f'Starting with {starting_node}')\n",
    "    while current_node != finish_node:\n",
    "        \n",
    "        for edge in current_node.edges(no_visited_nodes=False):\n",
    "            distance_via_current_node = current_node.distance + edge.weight\n",
    "            if distance_via_current_node < edge.node_end.distance:\n",
    "                edge.node_end.distance = distance_via_current_node\n",
    "                edge.node_end.shortest_path_prev_node = current_node\n",
    "\n",
    "            # edge.node_end.distance = min(edge.node_end.distance, current_node.distance + edge.weight)\n",
    "        \n",
    "        current_node.visited = True\n",
    "        # next_node = min(current_node.edges(), key=lambda edge: edge.node_end.distance).node_end\n",
    "        next_node = graph.get_smallest_distance_unvisited_node()\n",
    "        logger.log(f'State: {graph.nodes}')\n",
    "        logger.log(f'Smallest unvisited {graph.get_smallest_distance_unvisited_node()}')\n",
    "        logger.log(f'Going to {next_node}')\n",
    "        logger.log()\n",
    "        current_node = next_node\n",
    "\n",
    "    shortest_path_reversed = list()\n",
    "    node = finish_node\n",
    "    while node != starting_node:\n",
    "        shortest_path_reversed.append(node)\n",
    "        node = node.shortest_path_prev_node\n",
    "    shortest_path_reversed.append(starting_node)\n",
    "    shortest_path = shortest_path_reversed[::-1]\n",
    "    return shortest_path\n",
    "        \n",
    "\n",
    "shortest_path = get_shortest_path(graph, starting_node, finish_node)\n",
    "print(' → '.join([node.name for node in shortest_path]))\n"
   ]
  },
  {
   "cell_type": "markdown",
   "metadata": {},
   "source": []
  }
 ],
 "metadata": {
  "kernelspec": {
   "display_name": "base",
   "language": "python",
   "name": "python3"
  },
  "language_info": {
   "codemirror_mode": {
    "name": "ipython",
    "version": 3
   },
   "file_extension": ".py",
   "mimetype": "text/x-python",
   "name": "python",
   "nbconvert_exporter": "python",
   "pygments_lexer": "ipython3",
   "version": "3.9.7"
  }
 },
 "nbformat": 4,
 "nbformat_minor": 2
}
